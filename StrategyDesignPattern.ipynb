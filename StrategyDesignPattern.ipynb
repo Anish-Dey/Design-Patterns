{
  "nbformat": 4,
  "nbformat_minor": 0,
  "metadata": {
    "colab": {
      "provenance": [],
      "authorship_tag": "ABX9TyMh0x8otDe7SOV/4s08Tev0",
      "include_colab_link": true
    },
    "kernelspec": {
      "name": "python3",
      "display_name": "Python 3"
    },
    "language_info": {
      "name": "python"
    }
  },
  "cells": [
    {
      "cell_type": "markdown",
      "metadata": {
        "id": "view-in-github",
        "colab_type": "text"
      },
      "source": [
        "<a href=\"https://colab.research.google.com/github/Anish-Dey/Design-Patterns/blob/main/StrategyDesignPattern.ipynb\" target=\"_parent\"><img src=\"https://colab.research.google.com/assets/colab-badge.svg\" alt=\"Open In Colab\"/></a>"
      ]
    },
    {
      "cell_type": "code",
      "source": [
        "from abc import ABC, abstractmethod"
      ],
      "metadata": {
        "id": "KIzxZqNehill"
      },
      "execution_count": 17,
      "outputs": []
    },
    {
      "cell_type": "code",
      "source": [
        "class DriveStrategy(ABC):\n",
        "    @abstractmethod\n",
        "    def drive(self):\n",
        "        pass"
      ],
      "metadata": {
        "id": "wMz_PTJlhpow"
      },
      "execution_count": 18,
      "outputs": []
    },
    {
      "cell_type": "code",
      "source": [
        "class NormalDrive(DriveStrategy):\n",
        "    def drive():\n",
        "        print(\"Normal Drive Capability\")"
      ],
      "metadata": {
        "id": "gAdt0tbOhwWd"
      },
      "execution_count": 19,
      "outputs": []
    },
    {
      "cell_type": "code",
      "source": [
        "class SpecialDrive(DriveStrategy):\n",
        "    def drive():\n",
        "        print(\"Special Drive Capability\")\n",
        ""
      ],
      "metadata": {
        "id": "NEDPBAIIh6yR"
      },
      "execution_count": 20,
      "outputs": []
    },
    {
      "cell_type": "code",
      "source": [
        "class XYZDrive(DriveStrategy):\n",
        "    def drive():\n",
        "        print(\"XYZ Drive Capability\")"
      ],
      "metadata": {
        "id": "lw_57SIoiBFb"
      },
      "execution_count": 21,
      "outputs": []
    },
    {
      "cell_type": "code",
      "source": [
        "class Vehicle(ABC):\n",
        "    def __init__(self, strategy):\n",
        "        self.strategy = strategy\n",
        "\n",
        "    def drive(self):\n",
        "        self.strategy.drive()\n",
        ""
      ],
      "metadata": {
        "id": "zk4eMXwciHRY"
      },
      "execution_count": 22,
      "outputs": []
    },
    {
      "cell_type": "code",
      "source": [
        "class Car(Vehicle):\n",
        "    def __init__(self):\n",
        "        super().__init__(NormalDrive)"
      ],
      "metadata": {
        "id": "9YhAEjcFigNw"
      },
      "execution_count": 23,
      "outputs": []
    },
    {
      "cell_type": "code",
      "source": [
        "class Bus(Vehicle):\n",
        "    def __init__(self):\n",
        "        super().__init__(SpecialDrive)"
      ],
      "metadata": {
        "id": "KqzW01N3i3ol"
      },
      "execution_count": 24,
      "outputs": []
    },
    {
      "cell_type": "code",
      "source": [
        "class Truck(Vehicle):\n",
        "    def __init__(self):\n",
        "        super().__init__(XYZDrive)"
      ],
      "metadata": {
        "id": "Aw9qoo1Ri5WX"
      },
      "execution_count": 25,
      "outputs": []
    },
    {
      "cell_type": "code",
      "source": [
        "# Implementation\n",
        "\n",
        "car = Car()\n",
        "car.drive()\n",
        "\n",
        "bus = Bus()\n",
        "bus.drive()\n",
        "\n",
        "truck = Truck()\n",
        "truck.drive()\n",
        "\n"
      ],
      "metadata": {
        "colab": {
          "base_uri": "https://localhost:8080/"
        },
        "id": "-1ZXPx-Ei7Tz",
        "outputId": "e11f20f5-1fa8-4668-d662-304c2110674c"
      },
      "execution_count": 26,
      "outputs": [
        {
          "output_type": "stream",
          "name": "stdout",
          "text": [
            "Normal Drive Capability\n",
            "Special Drive Capability\n",
            "XYZ Drive Capability\n"
          ]
        }
      ]
    }
  ]
}