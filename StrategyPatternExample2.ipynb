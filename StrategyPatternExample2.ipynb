{
  "nbformat": 4,
  "nbformat_minor": 0,
  "metadata": {
    "colab": {
      "provenance": [],
      "authorship_tag": "ABX9TyPWyLaxPPTK1ExmhN+faXJi",
      "include_colab_link": true
    },
    "kernelspec": {
      "name": "python3",
      "display_name": "Python 3"
    },
    "language_info": {
      "name": "python"
    }
  },
  "cells": [
    {
      "cell_type": "markdown",
      "metadata": {
        "id": "view-in-github",
        "colab_type": "text"
      },
      "source": [
        "<a href=\"https://colab.research.google.com/github/Anish-Dey/Design-Patterns/blob/main/StrategyPatternExample2.ipynb\" target=\"_parent\"><img src=\"https://colab.research.google.com/assets/colab-badge.svg\" alt=\"Open In Colab\"/></a>"
      ]
    },
    {
      "cell_type": "code",
      "execution_count": 62,
      "metadata": {
        "id": "vkdfvIh3rIE-"
      },
      "outputs": [],
      "source": [
        "from abc import ABC, abstractmethod\n",
        "from enum import Enum, auto"
      ]
    },
    {
      "cell_type": "code",
      "source": [
        "class OutputFormat(Enum):\n",
        "    MARKDOWN = auto()\n",
        "    HTML = auto()"
      ],
      "metadata": {
        "id": "XTkm4IAFrNfx"
      },
      "execution_count": 63,
      "outputs": []
    },
    {
      "cell_type": "code",
      "source": [
        "# List Strategy Interface\n",
        "class ListStrategy(ABC):\n",
        "    def start_list(self, buffer) -> str:\n",
        "        pass\n",
        "\n",
        "    def add_list_item(self, item: str, buffer) -> str:\n",
        "        pass\n",
        "\n",
        "    def end_list(self, buffer) -> str:\n",
        "        pass"
      ],
      "metadata": {
        "id": "SAsWqZuarcwr"
      },
      "execution_count": 64,
      "outputs": []
    },
    {
      "cell_type": "code",
      "source": [
        "# HTML List Strategy\n",
        "class HtmlListStrategy(ListStrategy):\n",
        "    def start_list(self, buffer):\n",
        "        buffer.append(\"<ul>\\n\")\n",
        "\n",
        "    def add_list_item(self,buffer, item: str):\n",
        "        buffer.append(f\" <li>{item}</li>\\n\")\n",
        "\n",
        "    def end_list(self, buffer):\n",
        "        buffer.append(\"</ul>\\n\")"
      ],
      "metadata": {
        "id": "dQ8I2t6PrslF"
      },
      "execution_count": 65,
      "outputs": []
    },
    {
      "cell_type": "code",
      "source": [
        "# Markdown List Strategy\n",
        "class MarkdownListStrategy(ListStrategy):\n",
        "    def add_list_item(self,buffer, item: str):\n",
        "        buffer.append(f\" * {item}\\n\")"
      ],
      "metadata": {
        "id": "LsVyHs0Kr9ps"
      },
      "execution_count": 66,
      "outputs": []
    },
    {
      "cell_type": "code",
      "source": [
        "class TextProcessor:\n",
        "    def __init__(self, list_strategy: ListStrategy = HtmlListStrategy()) -> None:\n",
        "        self.buffer = []\n",
        "        self._list_strategy = list_strategy\n",
        "\n",
        "    def append_list(self, items):\n",
        "        ls = self._list_strategy\n",
        "        ls.start_list(self.buffer)\n",
        "        for item in items:\n",
        "            ls.add_list_item(self.buffer, item)\n",
        "        ls.end_list(self.buffer)\n",
        "\n",
        "    def clear(self):\n",
        "        self.buffer.clear()\n",
        "\n",
        "    def __str__(self):\n",
        "        return ''.join(self.buffer)"
      ],
      "metadata": {
        "id": "aPSvLYjGsCAk"
      },
      "execution_count": 67,
      "outputs": []
    },
    {
      "cell_type": "code",
      "source": [
        "class TextProcessorHTML(TextProcessor):\n",
        "    def __init__(self):\n",
        "        super().__init__(HtmlListStrategy())"
      ],
      "metadata": {
        "id": "4tL55n0Svj57"
      },
      "execution_count": 68,
      "outputs": []
    },
    {
      "cell_type": "code",
      "source": [
        "class TextProcessorMarkdown(TextProcessor):\n",
        "    def __init__(self):\n",
        "        super().__init__(MarkdownListStrategy())"
      ],
      "metadata": {
        "id": "576geACzvylq"
      },
      "execution_count": 69,
      "outputs": []
    },
    {
      "cell_type": "code",
      "source": [
        "if __name__ == \"__main__\":\n",
        "    items = [\"foo\", \"bar\", \"baz\"]\n",
        "\n",
        "    tp = TextProcessorHTML()\n",
        "    tp.append_list(items)\n",
        "    print(tp)\n",
        "\n",
        "    tp = TextProcessorMarkdown()\n",
        "    tp.append_list(items)\n",
        "    print(tp)\n"
      ],
      "metadata": {
        "colab": {
          "base_uri": "https://localhost:8080/"
        },
        "id": "Q5W74vcMth_t",
        "outputId": "afc353eb-d5b2-4395-a2e3-b376fce4b6c9"
      },
      "execution_count": 70,
      "outputs": [
        {
          "output_type": "stream",
          "name": "stdout",
          "text": [
            "<ul>\n",
            " <li>foo</li>\n",
            " <li>bar</li>\n",
            " <li>baz</li>\n",
            "</ul>\n",
            "\n",
            " * foo\n",
            " * bar\n",
            " * baz\n",
            "\n"
          ]
        }
      ]
    },
    {
      "cell_type": "code",
      "source": [],
      "metadata": {
        "id": "UZhYC5RHuhHz"
      },
      "execution_count": 70,
      "outputs": []
    }
  ]
}