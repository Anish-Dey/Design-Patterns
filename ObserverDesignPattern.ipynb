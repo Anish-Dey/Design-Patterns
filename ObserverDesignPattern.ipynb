{
  "nbformat": 4,
  "nbformat_minor": 0,
  "metadata": {
    "colab": {
      "provenance": [],
      "authorship_tag": "ABX9TyOLlSiJNXcU2GCTVH7yNQ2h",
      "include_colab_link": true
    },
    "kernelspec": {
      "name": "python3",
      "display_name": "Python 3"
    },
    "language_info": {
      "name": "python"
    }
  },
  "cells": [
    {
      "cell_type": "markdown",
      "metadata": {
        "id": "view-in-github",
        "colab_type": "text"
      },
      "source": [
        "<a href=\"https://colab.research.google.com/github/Anish-Dey/Design-Patterns/blob/main/ObserverDesignPattern.ipynb\" target=\"_parent\"><img src=\"https://colab.research.google.com/assets/colab-badge.svg\" alt=\"Open In Colab\"/></a>"
      ]
    },
    {
      "cell_type": "markdown",
      "source": [
        "## Problem Statement:\n",
        "### Implement Notify Me Functionality in an E Commerce platform, to notify subscriber when the Stock is back.\n"
      ],
      "metadata": {
        "id": "vIeoQWru9GeR"
      }
    },
    {
      "cell_type": "code",
      "execution_count": 34,
      "metadata": {
        "id": "Ay0p9k6f851I"
      },
      "outputs": [],
      "source": [
        "from abc import ABC, abstractmethod"
      ]
    },
    {
      "cell_type": "markdown",
      "source": [
        "# Stock Observable Interface"
      ],
      "metadata": {
        "id": "Ul375l3L_OxZ"
      }
    },
    {
      "cell_type": "code",
      "source": [
        "class StockObservable(ABC):\n",
        "    @abstractmethod\n",
        "    def add(self, observer) -> None:\n",
        "        pass\n",
        "    @abstractmethod\n",
        "    def remove(self, observer) -> None:\n",
        "        pass\n",
        "    @abstractmethod\n",
        "    def notify(self) -> None:\n",
        "        pass\n",
        "    @abstractmethod\n",
        "    def set_stock(self, stock: int) -> None:\n",
        "        pass\n",
        "    @abstractmethod\n",
        "    def get_stock(self) -> int:\n",
        "        pass"
      ],
      "metadata": {
        "id": "vbjLlfnA9COq"
      },
      "execution_count": 35,
      "outputs": []
    },
    {
      "cell_type": "markdown",
      "source": [
        "# IphoneObservable Class, implementing StockObservable Interface"
      ],
      "metadata": {
        "id": "1WZbXLR6_T93"
      }
    },
    {
      "cell_type": "code",
      "source": [
        "class IphoneObservable(StockObservable):\n",
        "    def __init__(self):\n",
        "        self.observerList = []\n",
        "        self.stockCount = 0\n",
        "\n",
        "    def add(self, observer):\n",
        "        self.observerList.append(observer)\n",
        "\n",
        "    def remove(self, observer):\n",
        "        self.observerList.remove(observer)\n",
        "\n",
        "    def notify(self):\n",
        "        for observer in  self.observerList:\n",
        "            observer.update()\n",
        "\n",
        "    def set_stock(self,newStockAdded):\n",
        "        if self.stockCount == 0:\n",
        "            self.notify()\n",
        "\n",
        "        self.stockCount += newStockAdded\n",
        "\n",
        "    def get_stock(self):\n",
        "        return self.stockCount\n",
        "\n",
        "\n",
        "\n"
      ],
      "metadata": {
        "id": "RuZAjHwr-7j_"
      },
      "execution_count": 36,
      "outputs": []
    },
    {
      "cell_type": "markdown",
      "source": [
        "# NotificationAlertObserver interface"
      ],
      "metadata": {
        "id": "YTlMY08CCGYJ"
      }
    },
    {
      "cell_type": "code",
      "source": [
        "class NotificationAlertObserver(ABC):\n",
        "    @abstractmethod\n",
        "    def update(self):\n",
        "        pass"
      ],
      "metadata": {
        "id": "d9GAFg9hA8Kb"
      },
      "execution_count": 37,
      "outputs": []
    },
    {
      "cell_type": "markdown",
      "source": [
        "# EmailAlertObserver Class Implementing NotificationAlertObserver Interface"
      ],
      "metadata": {
        "id": "Oj6Qbr5ZEgLz"
      }
    },
    {
      "cell_type": "code",
      "source": [
        "# EmailAlertObserver Class Implementing NotificationAlertObserver Interface\n",
        "class EmailAlertObserver(NotificationAlertObserver):\n",
        "    def __init__(self, email, observable):\n",
        "        self.email = email\n",
        "        self.observable = observable\n",
        "\n",
        "    def update(self):\n",
        "        self.sendmail(self.email, \"Stock is back. Hurry Up!\")\n",
        "\n",
        "    def sendmail(self, email, msg):\n",
        "        print(f\"Email sent to {email} with message {msg}\")\n",
        ""
      ],
      "metadata": {
        "id": "mpjXkT_pCa3B"
      },
      "execution_count": 38,
      "outputs": []
    },
    {
      "cell_type": "markdown",
      "source": [
        "# NotificationAlertObserver Class Implementing NotificationAlertObserver Interface"
      ],
      "metadata": {
        "id": "pBRpoq14FRce"
      }
    },
    {
      "cell_type": "code",
      "source": [
        "class SMSAlertObserver(NotificationAlertObserver):\n",
        "    def __init__(self, phone, observable):\n",
        "        self.phone = phone\n",
        "        self.observable = observable\n",
        "\n",
        "    def update(self):\n",
        "        self.sendSMS(self.phone, \"Stock is back. Hurry Up!\")\n",
        "\n",
        "    def sendSMS(self, phone, msg):\n",
        "        print(f\"SMS sent to {phone} with message {msg}\")"
      ],
      "metadata": {
        "id": "J-krikkfFtMd"
      },
      "execution_count": 39,
      "outputs": []
    },
    {
      "cell_type": "code",
      "source": [
        "if __name__ == \"__main__\":\n",
        "    iphoneObservable = IphoneObservable()\n",
        "\n",
        "    observer1 = EmailAlertObserver(\"abc@def.com\", iphoneObservable)\n",
        "    observer2 = SMSAlertObserver(\"1234567890\", iphoneObservable)\n",
        "    oberver3 = SMSAlertObserver(\"9876543210\", iphoneObservable)\n",
        "    observer4 = EmailAlertObserver(\"xyz@def.com\", iphoneObservable)\n",
        "\n",
        "    iphoneObservable.add(observer1)\n",
        "    iphoneObservable.add(observer2)\n",
        "    iphoneObservable.add(oberver3)\n",
        "    iphoneObservable.add(observer4)\n",
        "\n",
        "    iphoneObservable.set_stock(10)\n",
        "    iphoneObservable.set_stock(0)\n",
        "    iphoneObservable.set_stock(100)"
      ],
      "metadata": {
        "colab": {
          "base_uri": "https://localhost:8080/"
        },
        "id": "dKIIHoryF2TN",
        "outputId": "c46d2652-fef1-4a0c-f6f3-be1605976781"
      },
      "execution_count": 40,
      "outputs": [
        {
          "output_type": "stream",
          "name": "stdout",
          "text": [
            "Email sent to abc@def.com with message Stock is back. Hurry Up!\n",
            "SMS sent to 1234567890 with message Stock is back. Hurry Up!\n",
            "SMS sent to 9876543210 with message Stock is back. Hurry Up!\n",
            "Email sent to xyz@def.com with message Stock is back. Hurry Up!\n"
          ]
        }
      ]
    }
  ]
}