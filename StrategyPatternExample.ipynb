{
  "nbformat": 4,
  "nbformat_minor": 0,
  "metadata": {
    "colab": {
      "provenance": [],
      "authorship_tag": "ABX9TyPtfLgQ4FlE4JoUtnGjofep",
      "include_colab_link": true
    },
    "kernelspec": {
      "name": "python3",
      "display_name": "Python 3"
    },
    "language_info": {
      "name": "python"
    }
  },
  "cells": [
    {
      "cell_type": "markdown",
      "metadata": {
        "id": "view-in-github",
        "colab_type": "text"
      },
      "source": [
        "<a href=\"https://colab.research.google.com/github/Anish-Dey/Design-Patterns/blob/main/StrategyPatternExample.ipynb\" target=\"_parent\"><img src=\"https://colab.research.google.com/assets/colab-badge.svg\" alt=\"Open In Colab\"/></a>"
      ]
    },
    {
      "cell_type": "code",
      "execution_count": 32,
      "metadata": {
        "id": "vkdfvIh3rIE-"
      },
      "outputs": [],
      "source": [
        "from abc import ABC, abstractmethod\n",
        "from enum import Enum, auto"
      ]
    },
    {
      "cell_type": "code",
      "source": [
        "class OutputFormat(Enum):\n",
        "    MARKDOWN = auto()\n",
        "    HTML = auto()"
      ],
      "metadata": {
        "id": "XTkm4IAFrNfx"
      },
      "execution_count": 33,
      "outputs": []
    },
    {
      "cell_type": "code",
      "source": [
        "# List Strategy Interface\n",
        "class ListStrategy(ABC):\n",
        "    def start_list(self, buffer) -> str:\n",
        "        pass\n",
        "\n",
        "    def add_list_item(self, item: str, buffer) -> str:\n",
        "        pass\n",
        "\n",
        "    def end_list(self, buffer) -> str:\n",
        "        pass"
      ],
      "metadata": {
        "id": "SAsWqZuarcwr"
      },
      "execution_count": 34,
      "outputs": []
    },
    {
      "cell_type": "code",
      "source": [
        "# HTML List Strategy\n",
        "class HtmlListStrategy(ListStrategy):\n",
        "    def start_list(self, buffer):\n",
        "        buffer.append(\"<ul>\\n\")\n",
        "\n",
        "    def add_list_item(self,buffer, item: str):\n",
        "        buffer.append(f\" <li>{item}</li>\\n\")\n",
        "\n",
        "    def end_list(self, buffer):\n",
        "        buffer.append(\"</ul>\\n\")"
      ],
      "metadata": {
        "id": "dQ8I2t6PrslF"
      },
      "execution_count": 35,
      "outputs": []
    },
    {
      "cell_type": "code",
      "source": [
        "# Markdown List Strategy\n",
        "class MarkdownListStrategy(ListStrategy):\n",
        "    def add_list_item(self,buffer, item: str):\n",
        "        buffer.append(f\" * {item}\\n\")"
      ],
      "metadata": {
        "id": "LsVyHs0Kr9ps"
      },
      "execution_count": 36,
      "outputs": []
    },
    {
      "cell_type": "code",
      "source": [
        "class TextProcessor:\n",
        "    def __init__(self, list_strategy: ListStrategy = HtmlListStrategy()) -> None:\n",
        "        self.buffer = []\n",
        "        self._list_strategy = list_strategy\n",
        "\n",
        "    def append_list(self, items):\n",
        "        ls = self._list_strategy\n",
        "        ls.start_list(self.buffer)\n",
        "        for item in items:\n",
        "            ls.add_list_item(self.buffer, item)\n",
        "        ls.end_list(self.buffer)\n",
        "\n",
        "    def set_output_format(self, format):\n",
        "        if format == OutputFormat.MARKDOWN:\n",
        "            self._list_strategy = MarkdownListStrategy()\n",
        "        elif format ==  OutputFormat.HTML:\n",
        "            self._list_strategy = HtmlListStrategy()\n",
        "\n",
        "    def clear():\n",
        "        self.buffer.clear()\n",
        "\n",
        "    def __str__(self):\n",
        "        return ''.join(self.buffer)"
      ],
      "metadata": {
        "id": "aPSvLYjGsCAk"
      },
      "execution_count": 37,
      "outputs": []
    },
    {
      "cell_type": "code",
      "source": [
        "if __name__ == \"__main__\":\n",
        "    items = [\"foo\", \"bar\", \"baz\"]\n",
        "\n",
        "    tp = TextProcessor()\n",
        "    tp.set_output_format(OutputFormat.MARKDOWN)\n",
        "    tp.append_list(items)\n",
        "    print(tp)\n",
        "\n",
        "    tp = TextProcessor()\n",
        "    tp.set_output_format(OutputFormat.HTML)\n",
        "    tp.append_list(items)\n",
        "    print(tp)\n"
      ],
      "metadata": {
        "colab": {
          "base_uri": "https://localhost:8080/"
        },
        "id": "Q5W74vcMth_t",
        "outputId": "ee0d2f02-35de-45c6-f140-d7c64e7bb2f2"
      },
      "execution_count": 38,
      "outputs": [
        {
          "output_type": "stream",
          "name": "stdout",
          "text": [
            " * foo\n",
            " * bar\n",
            " * baz\n",
            "\n",
            "<ul>\n",
            " <li>foo</li>\n",
            " <li>bar</li>\n",
            " <li>baz</li>\n",
            "</ul>\n",
            "\n"
          ]
        }
      ]
    },
    {
      "cell_type": "code",
      "source": [],
      "metadata": {
        "id": "UZhYC5RHuhHz"
      },
      "execution_count": 38,
      "outputs": []
    }
  ]
}